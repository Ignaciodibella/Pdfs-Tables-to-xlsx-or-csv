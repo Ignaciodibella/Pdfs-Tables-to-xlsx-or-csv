{
  "nbformat": 4,
  "nbformat_minor": 0,
  "metadata": {
    "colab": {
      "provenance": []
    },
    "kernelspec": {
      "name": "python3",
      "display_name": "Python 3"
    },
    "language_info": {
      "name": "python"
    }
  },
  "cells": [
    {
      "cell_type": "markdown",
      "source": [
        "## Instalar libreriras necesarias"
      ],
      "metadata": {
        "id": "aBWFMEbuQPzq"
      }
    },
    {
      "cell_type": "code",
      "execution_count": null,
      "metadata": {
        "id": "SPiE1BX3_2z6"
      },
      "outputs": [],
      "source": [
        "pip install tabula-py"
      ]
    },
    {
      "cell_type": "code",
      "source": [
        "pip install pandas"
      ],
      "metadata": {
        "id": "OP_O8KPL_-yz"
      },
      "execution_count": null,
      "outputs": []
    },
    {
      "cell_type": "code",
      "source": [
        "pip install jpype1"
      ],
      "metadata": {
        "id": "XckWY9wpAio2"
      },
      "execution_count": null,
      "outputs": []
    },
    {
      "cell_type": "markdown",
      "source": [
        "## Importación de Librerias necesarias"
      ],
      "metadata": {
        "id": "zXQ6DsyBRBCn"
      }
    },
    {
      "cell_type": "code",
      "source": [
        "import tabula\n",
        "import pandas as pd"
      ],
      "metadata": {
        "id": "LJsPs84dREHt"
      },
      "execution_count": null,
      "outputs": []
    },
    {
      "cell_type": "markdown",
      "source": [
        "## Definición de rutas de archivos (inputs y outputs)"
      ],
      "metadata": {
        "id": "LPKQDmbFQV1t"
      }
    },
    {
      "cell_type": "code",
      "source": [
        "input_file = 'marcas_por_pl_no_pemex.pdf' # Nombre del archivo pdf con las tablas a extraer.\n",
        "output_file = 'result_no_pemex.xlsx'      # Nombre del archivo xlsx con las tablas extraidas (este archivo contiene una hoja por tabla extraída).\n",
        "\n",
        "final_xlsx = 'final_result.xlsx'          # Nombre del archivo xlsx final con la concatenación de tablas en una única hoja(Si se desea). Útil si todas las tablas extraídas tienen el mismo formato."
      ],
      "metadata": {
        "id": "Xn3m4GnvQdRX"
      },
      "execution_count": null,
      "outputs": []
    },
    {
      "cell_type": "markdown",
      "source": [
        "## Extraer tabla del PDF a hojas independientes en un libro de Excel"
      ],
      "metadata": {
        "id": "JKkoEdn6CYdc"
      }
    },
    {
      "cell_type": "code",
      "source": [
        "input_file = 'marcas_por_pl_no_pemex.pdf'\n",
        "output_file = 'result_no_pemex.xlsx'\n",
        "\n",
        "def pdf_to_excel(pdf_file_path, excel_file_path):\n",
        "\n",
        "    tables = tabula.read_pdf(pdf_file_path, pages='all')\n",
        "    with pd.ExcelWriter(excel_file_path) as writer:\n",
        "        for i, table in enumerate(tables):\n",
        "            table.to_excel(writer, sheet_name=f'Sheet{i+1}')\n",
        "\n",
        "pdf_to_excel(input_file, output_file)\n",
        "print(\"Extracción de tablas completada.\")"
      ],
      "metadata": {
        "id": "26kockW_ANrc"
      },
      "execution_count": 6,
      "outputs": []
    },
    {
      "cell_type": "markdown",
      "source": [
        "## Concatenar el resultado de cada hoja en una única hoja (de un nuevo libro)"
      ],
      "metadata": {
        "id": "ftYwhUirDb20"
      }
    },
    {
      "cell_type": "code",
      "source": [
        "final_xlsx = 'final_result.xlsx'\n",
        "\n",
        "xls = pd.ExcelFile(output_file)\n",
        "all_data = pd.DataFrame()\n",
        "\n",
        "for sheet_name in xls.sheet_names:\n",
        "    df = pd.read_excel(xls, sheet_name=sheet_name)\n",
        "    all_data = pd.concat([all_data, df], ignore_index=True)\n",
        "\n",
        "with pd.ExcelWriter(final_xlsx) as writer:\n",
        "    all_data.to_excel(writer, sheet_name='Concatenated', index=False)\n",
        "\n",
        "print(\"Archivo creado exitosamente.\")"
      ],
      "metadata": {
        "id": "RygpyDF1Cdfq"
      },
      "execution_count": null,
      "outputs": []
    },
    {
      "cell_type": "markdown",
      "source": [
        "## Exportar como csv"
      ],
      "metadata": {
        "id": "nsJtFwF5EG1W"
      }
    },
    {
      "cell_type": "code",
      "source": [
        "df = pd.read_excel(final_xlsx)\n",
        "csv_file = final_xlsx.split(\".\")[0] + \".csv\"\n",
        "\n",
        "df.to_csv(csv_file, index=False, encoding='utf-8')"
      ],
      "metadata": {
        "id": "5_TrcPR5EJfQ"
      },
      "execution_count": 12,
      "outputs": []
    }
  ]
}